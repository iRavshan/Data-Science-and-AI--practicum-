{
 "cells": [
  {
   "cell_type": "code",
   "execution_count": 6,
   "metadata": {},
   "outputs": [],
   "source": [
    "import pandas as pd"
   ]
  },
  {
   "cell_type": "code",
   "execution_count": 7,
   "metadata": {},
   "outputs": [],
   "source": [
    "username = {\"anvar\": \"anvarbek223\", \"olim\": \"olimtoy\", \"maryam\": \"mary2345\", \"javoxir\": \"jovaRap\"}\n",
    "emails = {\"anvar\": \"anvar27@gmail.com\", \"olim\": \"olim4ikov@mail.ru\", \"maryam\": \"mary8@yandex.ru\", \"javoxir\": \"jovaRap@umail.uz\"}\n",
    "\n",
    "data = {\n",
    "    'username': username,\n",
    "    'email': emails\n",
    "}\n",
    "\n",
    "df = pd.DataFrame(data)"
   ]
  },
  {
   "cell_type": "code",
   "execution_count": 8,
   "metadata": {},
   "outputs": [
    {
     "data": {
      "text/html": [
       "<div>\n",
       "<style scoped>\n",
       "    .dataframe tbody tr th:only-of-type {\n",
       "        vertical-align: middle;\n",
       "    }\n",
       "\n",
       "    .dataframe tbody tr th {\n",
       "        vertical-align: top;\n",
       "    }\n",
       "\n",
       "    .dataframe thead th {\n",
       "        text-align: right;\n",
       "    }\n",
       "</style>\n",
       "<table border=\"1\" class=\"dataframe\">\n",
       "  <thead>\n",
       "    <tr style=\"text-align: right;\">\n",
       "      <th></th>\n",
       "      <th>username</th>\n",
       "      <th>email</th>\n",
       "    </tr>\n",
       "  </thead>\n",
       "  <tbody>\n",
       "    <tr>\n",
       "      <th>anvar</th>\n",
       "      <td>anvarbek223</td>\n",
       "      <td>anvar27@gmail.com</td>\n",
       "    </tr>\n",
       "    <tr>\n",
       "      <th>olim</th>\n",
       "      <td>olimtoy</td>\n",
       "      <td>olim4ikov@mail.ru</td>\n",
       "    </tr>\n",
       "    <tr>\n",
       "      <th>maryam</th>\n",
       "      <td>mary2345</td>\n",
       "      <td>mary8@yandex.ru</td>\n",
       "    </tr>\n",
       "    <tr>\n",
       "      <th>javoxir</th>\n",
       "      <td>jovaRap</td>\n",
       "      <td>jovaRap@umail.uz</td>\n",
       "    </tr>\n",
       "  </tbody>\n",
       "</table>\n",
       "</div>"
      ],
      "text/plain": [
       "            username              email\n",
       "anvar    anvarbek223  anvar27@gmail.com\n",
       "olim         olimtoy  olim4ikov@mail.ru\n",
       "maryam      mary2345    mary8@yandex.ru\n",
       "javoxir      jovaRap   jovaRap@umail.uz"
      ]
     },
     "execution_count": 8,
     "metadata": {},
     "output_type": "execute_result"
    }
   ],
   "source": [
    "df"
   ]
  },
  {
   "cell_type": "code",
   "execution_count": 9,
   "metadata": {},
   "outputs": [
    {
     "data": {
      "text/plain": [
       "Index(['anvar', 'olim', 'maryam', 'javoxir'], dtype='object')"
      ]
     },
     "execution_count": 9,
     "metadata": {},
     "output_type": "execute_result"
    }
   ],
   "source": [
    "df.index"
   ]
  },
  {
   "cell_type": "code",
   "execution_count": 10,
   "metadata": {},
   "outputs": [],
   "source": [
    "data2 = {\n",
    "    'username': {\"olim\": \"olimjon21\", \"maryam\": \"maryam2020\"},\n",
    "    'email': {\"olim\": \"olimjon21@mail.ru\", \"maryam\": \"maryam20@gmail.com\"}\n",
    "}"
   ]
  },
  {
   "cell_type": "code",
   "execution_count": 11,
   "metadata": {},
   "outputs": [
    {
     "name": "stderr",
     "output_type": "stream",
     "text": [
      "C:\\Users\\ravsh\\AppData\\Local\\Temp\\ipykernel_9076\\289703299.py:1: FutureWarning: The frame.append method is deprecated and will be removed from pandas in a future version. Use pandas.concat instead.\n",
      "  df2 = df.append(pd.DataFrame(data2))\n"
     ]
    }
   ],
   "source": [
    "df2 = df.append(pd.DataFrame(data2))"
   ]
  },
  {
   "cell_type": "code",
   "execution_count": 12,
   "metadata": {},
   "outputs": [
    {
     "data": {
      "text/plain": [
       "Index(['olim', 'nafisa', 'hamida'], dtype='object')"
      ]
     },
     "execution_count": 12,
     "metadata": {},
     "output_type": "execute_result"
    }
   ],
   "source": [
    "newind = pd.Index(['olim', 'nafisa', 'hamida'])\n",
    "newind"
   ]
  },
  {
   "cell_type": "code",
   "execution_count": 13,
   "metadata": {},
   "outputs": [
    {
     "data": {
      "text/plain": [
       "array([ True, False, False])"
      ]
     },
     "execution_count": 13,
     "metadata": {},
     "output_type": "execute_result"
    }
   ],
   "source": [
    "newind.isin(df2.index)"
   ]
  },
  {
   "cell_type": "code",
   "execution_count": 14,
   "metadata": {},
   "outputs": [
    {
     "data": {
      "text/plain": [
       "Index(['anvar', 'javoxir', 'maryam'], dtype='object')"
      ]
     },
     "execution_count": 14,
     "metadata": {},
     "output_type": "execute_result"
    }
   ],
   "source": [
    "df2.index.difference(newind)"
   ]
  },
  {
   "cell_type": "code",
   "execution_count": 15,
   "metadata": {},
   "outputs": [
    {
     "data": {
      "text/plain": [
       "Index(['anvar', 'hamida', 'javoxir', 'maryam', 'maryam', 'nafisa', 'olim',\n",
       "       'olim'],\n",
       "      dtype='object')"
      ]
     },
     "execution_count": 15,
     "metadata": {},
     "output_type": "execute_result"
    }
   ],
   "source": [
    "df2.index.union(newind)"
   ]
  },
  {
   "cell_type": "code",
   "execution_count": 16,
   "metadata": {},
   "outputs": [
    {
     "data": {
      "text/plain": [
       "Index(['anvar', 'olim', 'maryam', 'javoxir', 'olim', 'maryam'], dtype='object')"
      ]
     },
     "execution_count": 16,
     "metadata": {},
     "output_type": "execute_result"
    }
   ],
   "source": [
    "df2.index"
   ]
  },
  {
   "cell_type": "code",
   "execution_count": 18,
   "metadata": {},
   "outputs": [
    {
     "data": {
      "text/plain": [
       "Index(['anvar', 'olim', 'maryam', 'javoxir'], dtype='object')"
      ]
     },
     "execution_count": 18,
     "metadata": {},
     "output_type": "execute_result"
    }
   ],
   "source": [
    "df2.index.unique()"
   ]
  },
  {
   "cell_type": "code",
   "execution_count": 19,
   "metadata": {},
   "outputs": [
    {
     "data": {
      "text/plain": [
       "Index(['olim', 'maryam', 'javoxir', 'olim', 'maryam'], dtype='object')"
      ]
     },
     "execution_count": 19,
     "metadata": {},
     "output_type": "execute_result"
    }
   ],
   "source": [
    "df2.index.delete(0)"
   ]
  },
  {
   "cell_type": "code",
   "execution_count": 20,
   "metadata": {},
   "outputs": [
    {
     "data": {
      "text/plain": [
       "Index(['anvar', 'olim', 'maryam', 'javoxir', 'olim', 'maryam'], dtype='object')"
      ]
     },
     "execution_count": 20,
     "metadata": {},
     "output_type": "execute_result"
    }
   ],
   "source": [
    "df2.index"
   ]
  },
  {
   "cell_type": "code",
   "execution_count": 21,
   "metadata": {},
   "outputs": [
    {
     "data": {
      "text/html": [
       "<div>\n",
       "<style scoped>\n",
       "    .dataframe tbody tr th:only-of-type {\n",
       "        vertical-align: middle;\n",
       "    }\n",
       "\n",
       "    .dataframe tbody tr th {\n",
       "        vertical-align: top;\n",
       "    }\n",
       "\n",
       "    .dataframe thead th {\n",
       "        text-align: right;\n",
       "    }\n",
       "</style>\n",
       "<table border=\"1\" class=\"dataframe\">\n",
       "  <thead>\n",
       "    <tr style=\"text-align: right;\">\n",
       "      <th></th>\n",
       "      <th>username</th>\n",
       "      <th>email</th>\n",
       "    </tr>\n",
       "  </thead>\n",
       "  <tbody>\n",
       "    <tr>\n",
       "      <th>anvar</th>\n",
       "      <td>anvarbek223</td>\n",
       "      <td>anvar27@gmail.com</td>\n",
       "    </tr>\n",
       "    <tr>\n",
       "      <th>olim</th>\n",
       "      <td>olimtoy</td>\n",
       "      <td>olim4ikov@mail.ru</td>\n",
       "    </tr>\n",
       "    <tr>\n",
       "      <th>maryam</th>\n",
       "      <td>mary2345</td>\n",
       "      <td>mary8@yandex.ru</td>\n",
       "    </tr>\n",
       "    <tr>\n",
       "      <th>javoxir</th>\n",
       "      <td>jovaRap</td>\n",
       "      <td>jovaRap@umail.uz</td>\n",
       "    </tr>\n",
       "    <tr>\n",
       "      <th>olim</th>\n",
       "      <td>olimjon21</td>\n",
       "      <td>olimjon21@mail.ru</td>\n",
       "    </tr>\n",
       "    <tr>\n",
       "      <th>maryam</th>\n",
       "      <td>maryam2020</td>\n",
       "      <td>maryam20@gmail.com</td>\n",
       "    </tr>\n",
       "  </tbody>\n",
       "</table>\n",
       "</div>"
      ],
      "text/plain": [
       "            username               email\n",
       "anvar    anvarbek223   anvar27@gmail.com\n",
       "olim         olimtoy   olim4ikov@mail.ru\n",
       "maryam      mary2345     mary8@yandex.ru\n",
       "javoxir      jovaRap    jovaRap@umail.uz\n",
       "olim       olimjon21   olimjon21@mail.ru\n",
       "maryam    maryam2020  maryam20@gmail.com"
      ]
     },
     "execution_count": 21,
     "metadata": {},
     "output_type": "execute_result"
    }
   ],
   "source": [
    "df2"
   ]
  },
  {
   "cell_type": "code",
   "execution_count": 24,
   "metadata": {},
   "outputs": [
    {
     "data": {
      "text/plain": [
       "False"
      ]
     },
     "execution_count": 24,
     "metadata": {},
     "output_type": "execute_result"
    }
   ],
   "source": [
    "df2.index.is_unique"
   ]
  },
  {
   "cell_type": "code",
   "execution_count": 25,
   "metadata": {},
   "outputs": [
    {
     "data": {
      "text/plain": [
       "False"
      ]
     },
     "execution_count": 25,
     "metadata": {},
     "output_type": "execute_result"
    }
   ],
   "source": [
    "df2.index.is_monotonic"
   ]
  },
  {
   "cell_type": "code",
   "execution_count": 26,
   "metadata": {},
   "outputs": [
    {
     "data": {
      "text/plain": [
       "False"
      ]
     },
     "execution_count": 26,
     "metadata": {},
     "output_type": "execute_result"
    }
   ],
   "source": [
    "df2.index.is_unique"
   ]
  }
 ],
 "metadata": {
  "kernelspec": {
   "display_name": "base",
   "language": "python",
   "name": "python3"
  },
  "language_info": {
   "codemirror_mode": {
    "name": "ipython",
    "version": 3
   },
   "file_extension": ".py",
   "mimetype": "text/x-python",
   "name": "python",
   "nbconvert_exporter": "python",
   "pygments_lexer": "ipython3",
   "version": "3.9.13"
  },
  "orig_nbformat": 4
 },
 "nbformat": 4,
 "nbformat_minor": 2
}
